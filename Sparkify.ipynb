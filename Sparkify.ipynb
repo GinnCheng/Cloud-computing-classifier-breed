{
 "cells": [
  {
   "cell_type": "markdown",
   "metadata": {},
   "source": [
    "# Sparkify Project Workspace\n",
    "This workspace contains a tiny subset (128MB) of the full dataset available (12GB). Feel free to use this workspace to build your project, or to explore a smaller subset with Spark before deploying your cluster on the cloud. Instructions for setting up your Spark cluster is included in the last lesson of the Extracurricular Spark Course content.\n",
    "\n",
    "You can follow the steps below to guide your data analysis and model building portion of this project.\n",
    "\n",
    "- artist: The name of the artist associated with the song being played.\n",
    "- auth: The authentication status of the user, indicating whether the user is logged in or logged out.\n",
    "- firstName: The first name of the user.\n",
    "- gender: The gender of the user.\n",
    "- itemInSession: The index of the item within the user's session.\n",
    "- lastName: The last name of the user.\n",
    "- length: The duration of the song being played.\n",
    "- level: The subscription level of the user (free or paid).\n",
    "- location: The location of the user.\n",
    "- method: The HTTP method used for the request (GET or PUT).\n",
    "- page: The specific page or action the user performed (e.g., \"NextSong\", \"Thumbs Up\", \"Add to Playlist\").\n",
    "- registration: The timestamp when the user registered.\n",
    "- sessionId: The ID of the user's session.\n",
    "- song: The title of the song being played.\n",
    "- status: The HTTP status code of the response.\n",
    "- ts: The timestamp of the event.\n",
    "- userAgent: The user agent string of the user's browser or client.\n",
    "- userId: The unique identifier of the user.\n",
    "\n",
    "**Objective** to define a model the predict the users' potential negative behaviour - cancel, downgrade - based on the users basic json info"
   ]
  },
  {
   "cell_type": "code",
   "execution_count": 165,
   "metadata": {},
   "outputs": [],
   "source": [
    "# import libraries\n",
    "import pyspark\n",
    "from pyspark.sql import SparkSession\n",
    "from pyspark.sql.functions import col, udf, count, sum as sql_sum, avg, when\n",
    "from pyspark.ml.feature import VectorAssembler\n",
    "from pyspark.ml.classification import LogisticRegression\n",
    "from pyspark.ml.evaluation import BinaryClassificationEvaluator\n",
    "import matplotlib.pyplot as plt\n",
    "import seaborn as sns"
   ]
  },
  {
   "cell_type": "code",
   "execution_count": 166,
   "metadata": {},
   "outputs": [],
   "source": [
    "# create a Spark session\n",
    "spark = SparkSession.builder \\\n",
    "    .appName(\"Sparkify Data Analysis\") \\\n",
    "    .getOrCreate()"
   ]
  },
  {
   "cell_type": "markdown",
   "metadata": {},
   "source": [
    "# Load and Clean Dataset\n",
    "In this workspace, the mini-dataset file is `mini_sparkify_event_data.json`. Load and clean the dataset, checking for invalid or missing data - for example, records without userids or sessionids. "
   ]
  },
  {
   "cell_type": "code",
   "execution_count": 167,
   "metadata": {},
   "outputs": [
    {
     "name": "stdout",
     "output_type": "stream",
     "text": [
      "mini_sparkify_event_data.json  Sparkify.ipynb  Sparkify-zh.ipynb\r\n"
     ]
    }
   ],
   "source": [
    "%ls"
   ]
  },
  {
   "cell_type": "code",
   "execution_count": 168,
   "metadata": {},
   "outputs": [],
   "source": [
    "file_path = \"mini_sparkify_event_data.json\"\n",
    "# read the data via spark\n",
    "sc = spark.read.json(file_path)"
   ]
  },
  {
   "cell_type": "code",
   "execution_count": 169,
   "metadata": {},
   "outputs": [
    {
     "name": "stdout",
     "output_type": "stream",
     "text": [
      "root\n",
      " |-- artist: string (nullable = true)\n",
      " |-- auth: string (nullable = true)\n",
      " |-- firstName: string (nullable = true)\n",
      " |-- gender: string (nullable = true)\n",
      " |-- itemInSession: long (nullable = true)\n",
      " |-- lastName: string (nullable = true)\n",
      " |-- length: double (nullable = true)\n",
      " |-- level: string (nullable = true)\n",
      " |-- location: string (nullable = true)\n",
      " |-- method: string (nullable = true)\n",
      " |-- page: string (nullable = true)\n",
      " |-- registration: long (nullable = true)\n",
      " |-- sessionId: long (nullable = true)\n",
      " |-- song: string (nullable = true)\n",
      " |-- status: long (nullable = true)\n",
      " |-- ts: long (nullable = true)\n",
      " |-- userAgent: string (nullable = true)\n",
      " |-- userId: string (nullable = true)\n",
      "\n",
      "+----------------+---------+---------+------+-------------+--------+---------+-----+--------------------+------+--------+-------------+---------+--------------------+------+-------------+--------------------+------+\n",
      "|          artist|     auth|firstName|gender|itemInSession|lastName|   length|level|            location|method|    page| registration|sessionId|                song|status|           ts|           userAgent|userId|\n",
      "+----------------+---------+---------+------+-------------+--------+---------+-----+--------------------+------+--------+-------------+---------+--------------------+------+-------------+--------------------+------+\n",
      "|  Martha Tilston|Logged In|    Colin|     M|           50| Freeman|277.89016| paid|     Bakersfield, CA|   PUT|NextSong|1538173362000|       29|           Rockpools|   200|1538352117000|Mozilla/5.0 (Wind...|    30|\n",
      "|Five Iron Frenzy|Logged In|    Micah|     M|           79|    Long|236.09424| free|Boston-Cambridge-...|   PUT|NextSong|1538331630000|        8|              Canada|   200|1538352180000|\"Mozilla/5.0 (Win...|     9|\n",
      "|    Adam Lambert|Logged In|    Colin|     M|           51| Freeman| 282.8273| paid|     Bakersfield, CA|   PUT|NextSong|1538173362000|       29|   Time For Miracles|   200|1538352394000|Mozilla/5.0 (Wind...|    30|\n",
      "|          Enigma|Logged In|    Micah|     M|           80|    Long|262.71302| free|Boston-Cambridge-...|   PUT|NextSong|1538331630000|        8|Knocking On Forbi...|   200|1538352416000|\"Mozilla/5.0 (Win...|     9|\n",
      "|       Daft Punk|Logged In|    Colin|     M|           52| Freeman|223.60771| paid|     Bakersfield, CA|   PUT|NextSong|1538173362000|       29|Harder Better Fas...|   200|1538352676000|Mozilla/5.0 (Wind...|    30|\n",
      "+----------------+---------+---------+------+-------------+--------+---------+-----+--------------------+------+--------+-------------+---------+--------------------+------+-------------+--------------------+------+\n",
      "only showing top 5 rows\n",
      "\n"
     ]
    }
   ],
   "source": [
    "sc.printSchema()\n",
    "sc.show(5)"
   ]
  },
  {
   "cell_type": "code",
   "execution_count": 170,
   "metadata": {},
   "outputs": [],
   "source": [
    "# Convert data types\n",
    "columns_to_cast = {\n",
    "    \"userId\": \"Integer\",\n",
    "    \"length\": \"Double\"\n",
    "}\n",
    "\n",
    "for column, dtype in columns_to_cast.items():\n",
    "    sc = sc.withColumn(column, sc[column].cast(dtype))"
   ]
  },
  {
   "cell_type": "code",
   "execution_count": 171,
   "metadata": {},
   "outputs": [
    {
     "name": "stdout",
     "output_type": "stream",
     "text": [
      "root\n",
      " |-- artist: string (nullable = true)\n",
      " |-- auth: string (nullable = true)\n",
      " |-- firstName: string (nullable = true)\n",
      " |-- gender: string (nullable = true)\n",
      " |-- itemInSession: long (nullable = true)\n",
      " |-- lastName: string (nullable = true)\n",
      " |-- length: double (nullable = true)\n",
      " |-- level: string (nullable = true)\n",
      " |-- location: string (nullable = true)\n",
      " |-- method: string (nullable = true)\n",
      " |-- page: string (nullable = true)\n",
      " |-- registration: long (nullable = true)\n",
      " |-- sessionId: long (nullable = true)\n",
      " |-- song: string (nullable = true)\n",
      " |-- status: long (nullable = true)\n",
      " |-- ts: long (nullable = true)\n",
      " |-- userAgent: string (nullable = true)\n",
      " |-- userId: integer (nullable = true)\n",
      "\n"
     ]
    }
   ],
   "source": [
    "sc.printSchema()"
   ]
  },
  {
   "cell_type": "code",
   "execution_count": 172,
   "metadata": {},
   "outputs": [],
   "source": [
    "# convert it to pandas dataframe for a better overview\n",
    "df = sc.toPandas()"
   ]
  },
  {
   "cell_type": "code",
   "execution_count": 173,
   "metadata": {},
   "outputs": [
    {
     "data": {
      "text/plain": [
       "artist           58392\n",
       "auth                 0\n",
       "firstName         8346\n",
       "gender            8346\n",
       "itemInSession        0\n",
       "lastName          8346\n",
       "length           58392\n",
       "level                0\n",
       "location          8346\n",
       "method               0\n",
       "page                 0\n",
       "registration      8346\n",
       "sessionId            0\n",
       "song             58392\n",
       "status               0\n",
       "ts                   0\n",
       "userAgent         8346\n",
       "userId            8346\n",
       "dtype: int64"
      ]
     },
     "execution_count": 173,
     "metadata": {},
     "output_type": "execute_result"
    }
   ],
   "source": [
    "df.isnull().sum()"
   ]
  },
  {
   "cell_type": "code",
   "execution_count": 174,
   "metadata": {},
   "outputs": [
    {
     "data": {
      "text/plain": [
       "20.381151832460734"
      ]
     },
     "execution_count": 174,
     "metadata": {},
     "output_type": "execute_result"
    }
   ],
   "source": [
    "df.length.isnull().sum()/df.shape[0]*100"
   ]
  },
  {
   "cell_type": "markdown",
   "metadata": {},
   "source": [
    "> There are 20% of missing data in length, try to imputate the missing data with respect to length"
   ]
  },
  {
   "cell_type": "code",
   "execution_count": 175,
   "metadata": {},
   "outputs": [],
   "source": [
    "# compute the mean length for each userID\n",
    "mean_length = sc.groupBy('userId').agg(avg('length').alias('mean_length'))\n",
    "\n",
    "# join the mean lengths back to the original DataFrame\n",
    "sc_length = sc.join(mean_length, on='userId', how='left')\n",
    "\n",
    "# fill null values\n",
    "sc_filled = sc_length.withColumn(\n",
    "    'length_filled',when(sc_length['length'].isNull(), sc_length['mean_length']).otherwise(sc_length['length'])\n",
    ")\n",
    "# drop columns and rename the length_filled to length\n",
    "sc_filled = sc_filled.drop('length','mean_length').withColumnRenamed('length_filled', 'length')"
   ]
  },
  {
   "cell_type": "code",
   "execution_count": 176,
   "metadata": {},
   "outputs": [
    {
     "data": {
      "text/plain": [
       "userId            8346\n",
       "artist           58392\n",
       "auth                 0\n",
       "firstName         8346\n",
       "gender            8346\n",
       "itemInSession        0\n",
       "lastName          8346\n",
       "level                0\n",
       "location          8346\n",
       "method               0\n",
       "page                 0\n",
       "registration      8346\n",
       "sessionId            0\n",
       "song             58392\n",
       "status               0\n",
       "ts                   0\n",
       "userAgent         8346\n",
       "length            8346\n",
       "dtype: int64"
      ]
     },
     "execution_count": 176,
     "metadata": {},
     "output_type": "execute_result"
    }
   ],
   "source": [
    "sc_filled.toPandas().isnull().sum()"
   ]
  },
  {
   "cell_type": "code",
   "execution_count": null,
   "metadata": {},
   "outputs": [],
   "source": []
  },
  {
   "cell_type": "markdown",
   "metadata": {},
   "source": [
    "> From the above columns and the number of null values in each, the parameters that may determine the user behaviour may cover: gender, itemInSession, level, location, method, page, sessionId, status, ts, and userId. Using these parameters can minimise the null value to be dropped and give the maximum parameters for the model training"
   ]
  },
  {
   "cell_type": "code",
   "execution_count": 177,
   "metadata": {},
   "outputs": [],
   "source": [
    "df = sc_filled.toPandas()"
   ]
  },
  {
   "cell_type": "code",
   "execution_count": 178,
   "metadata": {},
   "outputs": [
    {
     "data": {
      "text/plain": [
       "array(['NextSong', 'Add to Playlist', 'Roll Advert', 'Thumbs Up',\n",
       "       'Downgrade', 'Thumbs Down', 'Home', 'Logout', 'Help', 'Login',\n",
       "       'Upgrade', 'Add Friend', 'About', 'Settings', 'Submit Upgrade',\n",
       "       'Submit Downgrade', 'Error', 'Save Settings', 'Cancel',\n",
       "       'Cancellation Confirmation', 'Register', 'Submit Registration'], dtype=object)"
      ]
     },
     "execution_count": 178,
     "metadata": {},
     "output_type": "execute_result"
    }
   ],
   "source": [
    "df.page.unique()"
   ]
  },
  {
   "cell_type": "code",
   "execution_count": 179,
   "metadata": {},
   "outputs": [
    {
     "data": {
      "text/html": [
       "<div>\n",
       "<style scoped>\n",
       "    .dataframe tbody tr th:only-of-type {\n",
       "        vertical-align: middle;\n",
       "    }\n",
       "\n",
       "    .dataframe tbody tr th {\n",
       "        vertical-align: top;\n",
       "    }\n",
       "\n",
       "    .dataframe thead th {\n",
       "        text-align: right;\n",
       "    }\n",
       "</style>\n",
       "<table border=\"1\" class=\"dataframe\">\n",
       "  <thead>\n",
       "    <tr style=\"text-align: right;\">\n",
       "      <th></th>\n",
       "      <th>userId</th>\n",
       "      <th>itemInSession</th>\n",
       "      <th>registration</th>\n",
       "      <th>sessionId</th>\n",
       "      <th>status</th>\n",
       "      <th>ts</th>\n",
       "      <th>length</th>\n",
       "    </tr>\n",
       "  </thead>\n",
       "  <tbody>\n",
       "    <tr>\n",
       "      <th>count</th>\n",
       "      <td>278154.000000</td>\n",
       "      <td>286500.000000</td>\n",
       "      <td>2.781540e+05</td>\n",
       "      <td>286500.000000</td>\n",
       "      <td>286500.000000</td>\n",
       "      <td>2.865000e+05</td>\n",
       "      <td>278154.000000</td>\n",
       "    </tr>\n",
       "    <tr>\n",
       "      <th>mean</th>\n",
       "      <td>59682.022786</td>\n",
       "      <td>114.414213</td>\n",
       "      <td>1.535359e+12</td>\n",
       "      <td>1041.526555</td>\n",
       "      <td>210.054597</td>\n",
       "      <td>1.540957e+12</td>\n",
       "      <td>249.106413</td>\n",
       "    </tr>\n",
       "    <tr>\n",
       "      <th>std</th>\n",
       "      <td>109091.949999</td>\n",
       "      <td>129.767262</td>\n",
       "      <td>3.291322e+09</td>\n",
       "      <td>726.776263</td>\n",
       "      <td>31.505078</td>\n",
       "      <td>1.507544e+09</td>\n",
       "      <td>89.875595</td>\n",
       "    </tr>\n",
       "    <tr>\n",
       "      <th>min</th>\n",
       "      <td>2.000000</td>\n",
       "      <td>0.000000</td>\n",
       "      <td>1.521381e+12</td>\n",
       "      <td>1.000000</td>\n",
       "      <td>200.000000</td>\n",
       "      <td>1.538352e+12</td>\n",
       "      <td>0.783220</td>\n",
       "    </tr>\n",
       "    <tr>\n",
       "      <th>25%</th>\n",
       "      <td>51.000000</td>\n",
       "      <td>27.000000</td>\n",
       "      <td>1.533522e+12</td>\n",
       "      <td>336.000000</td>\n",
       "      <td>200.000000</td>\n",
       "      <td>1.539697e+12</td>\n",
       "      <td>207.986490</td>\n",
       "    </tr>\n",
       "    <tr>\n",
       "      <th>50%</th>\n",
       "      <td>98.000000</td>\n",
       "      <td>70.000000</td>\n",
       "      <td>1.536664e+12</td>\n",
       "      <td>1013.000000</td>\n",
       "      <td>200.000000</td>\n",
       "      <td>1.540932e+12</td>\n",
       "      <td>246.056378</td>\n",
       "    </tr>\n",
       "    <tr>\n",
       "      <th>75%</th>\n",
       "      <td>100004.000000</td>\n",
       "      <td>156.250000</td>\n",
       "      <td>1.537672e+12</td>\n",
       "      <td>1675.000000</td>\n",
       "      <td>200.000000</td>\n",
       "      <td>1.542266e+12</td>\n",
       "      <td>265.743220</td>\n",
       "    </tr>\n",
       "    <tr>\n",
       "      <th>max</th>\n",
       "      <td>300025.000000</td>\n",
       "      <td>1321.000000</td>\n",
       "      <td>1.543247e+12</td>\n",
       "      <td>2474.000000</td>\n",
       "      <td>404.000000</td>\n",
       "      <td>1.543799e+12</td>\n",
       "      <td>3024.665670</td>\n",
       "    </tr>\n",
       "  </tbody>\n",
       "</table>\n",
       "</div>"
      ],
      "text/plain": [
       "              userId  itemInSession  registration      sessionId  \\\n",
       "count  278154.000000  286500.000000  2.781540e+05  286500.000000   \n",
       "mean    59682.022786     114.414213  1.535359e+12    1041.526555   \n",
       "std    109091.949999     129.767262  3.291322e+09     726.776263   \n",
       "min         2.000000       0.000000  1.521381e+12       1.000000   \n",
       "25%        51.000000      27.000000  1.533522e+12     336.000000   \n",
       "50%        98.000000      70.000000  1.536664e+12    1013.000000   \n",
       "75%    100004.000000     156.250000  1.537672e+12    1675.000000   \n",
       "max    300025.000000    1321.000000  1.543247e+12    2474.000000   \n",
       "\n",
       "              status            ts         length  \n",
       "count  286500.000000  2.865000e+05  278154.000000  \n",
       "mean      210.054597  1.540957e+12     249.106413  \n",
       "std        31.505078  1.507544e+09      89.875595  \n",
       "min       200.000000  1.538352e+12       0.783220  \n",
       "25%       200.000000  1.539697e+12     207.986490  \n",
       "50%       200.000000  1.540932e+12     246.056378  \n",
       "75%       200.000000  1.542266e+12     265.743220  \n",
       "max       404.000000  1.543799e+12    3024.665670  "
      ]
     },
     "execution_count": 179,
     "metadata": {},
     "output_type": "execute_result"
    }
   ],
   "source": [
    "df.describe()"
   ]
  },
  {
   "cell_type": "code",
   "execution_count": 180,
   "metadata": {},
   "outputs": [],
   "source": [
    "sc = sc_filled"
   ]
  },
  {
   "cell_type": "code",
   "execution_count": null,
   "metadata": {},
   "outputs": [],
   "source": []
  },
  {
   "cell_type": "code",
   "execution_count": null,
   "metadata": {},
   "outputs": [],
   "source": []
  },
  {
   "cell_type": "markdown",
   "metadata": {},
   "source": [
    "# Exploratory Data Analysis\n",
    "When you're working with the full dataset, perform EDA by loading a small subset of the data and doing basic manipulations within Spark. In this workspace, you are already provided a small subset of data you can explore.\n",
    "\n",
    "### Define Churn\n",
    "\n",
    "Once you've done some preliminary analysis, create a column `Churn` to use as the label for your model. I suggest using the `Cancellation Confirmation` events to define your churn, which happen for both paid and free users. As a bonus task, you can also look into the `Downgrade` events.\n",
    "\n",
    "### Explore Data\n",
    "Once you've defined churn, perform some exploratory data analysis to observe the behavior for users who stayed vs users who churned. You can start by exploring aggregates on these two groups of users, observing how much of a specific action they experienced per a certain time unit or number of songs played."
   ]
  },
  {
   "cell_type": "code",
   "execution_count": 181,
   "metadata": {},
   "outputs": [
    {
     "name": "stdout",
     "output_type": "stream",
     "text": [
      "+------+----------------+---------+---------+------+-------------+--------+-----+--------------------+------+--------+-------------+---------+--------------------+------+-------------+--------------------+---------+\n",
      "|userId|          artist|     auth|firstName|gender|itemInSession|lastName|level|            location|method|    page| registration|sessionId|                song|status|           ts|           userAgent|   length|\n",
      "+------+----------------+---------+---------+------+-------------+--------+-----+--------------------+------+--------+-------------+---------+--------------------+------+-------------+--------------------+---------+\n",
      "|    30|  Martha Tilston|Logged In|    Colin|     M|           50| Freeman| paid|     Bakersfield, CA|   PUT|NextSong|1538173362000|       29|           Rockpools|   200|1538352117000|Mozilla/5.0 (Wind...|277.89016|\n",
      "|     9|Five Iron Frenzy|Logged In|    Micah|     M|           79|    Long| free|Boston-Cambridge-...|   PUT|NextSong|1538331630000|        8|              Canada|   200|1538352180000|\"Mozilla/5.0 (Win...|236.09424|\n",
      "|    30|    Adam Lambert|Logged In|    Colin|     M|           51| Freeman| paid|     Bakersfield, CA|   PUT|NextSong|1538173362000|       29|   Time For Miracles|   200|1538352394000|Mozilla/5.0 (Wind...| 282.8273|\n",
      "|     9|          Enigma|Logged In|    Micah|     M|           80|    Long| free|Boston-Cambridge-...|   PUT|NextSong|1538331630000|        8|Knocking On Forbi...|   200|1538352416000|\"Mozilla/5.0 (Win...|262.71302|\n",
      "|    30|       Daft Punk|Logged In|    Colin|     M|           52| Freeman| paid|     Bakersfield, CA|   PUT|NextSong|1538173362000|       29|Harder Better Fas...|   200|1538352676000|Mozilla/5.0 (Wind...|223.60771|\n",
      "+------+----------------+---------+---------+------+-------------+--------+-----+--------------------+------+--------+-------------+---------+--------------------+------+-------------+--------------------+---------+\n",
      "only showing top 5 rows\n",
      "\n"
     ]
    }
   ],
   "source": [
    "sc.show(5)"
   ]
  },
  {
   "cell_type": "code",
   "execution_count": 182,
   "metadata": {},
   "outputs": [],
   "source": [
    "# rename the column names\n",
    "from pyspark.sql.types import StringType\n",
    "to_lower_coln = udf(lambda x: x.lower(), StringType())"
   ]
  },
  {
   "cell_type": "code",
   "execution_count": 183,
   "metadata": {},
   "outputs": [],
   "source": [
    "for col in sc.columns:\n",
    "    sc.withColumn(col, to_lower_coln(col))"
   ]
  },
  {
   "cell_type": "code",
   "execution_count": 184,
   "metadata": {},
   "outputs": [],
   "source": [
    "# select the relevant columns\n",
    "coln_selected = ['gender', 'itemInSession', 'level', 'location', 'length', 'method', 'page', 'sessionId', 'status', 'ts', 'userId']\n",
    "sc_sl = sc.select(coln_selected)"
   ]
  },
  {
   "cell_type": "code",
   "execution_count": 185,
   "metadata": {},
   "outputs": [],
   "source": [
    "# drop na and duplicated\n",
    "sc_cl = sc_sl.dropna()\n",
    "sc_cl = sc_cl.dropDuplicates()"
   ]
  },
  {
   "cell_type": "code",
   "execution_count": 186,
   "metadata": {},
   "outputs": [],
   "source": [
    "# add a column of churn\n",
    "to_label_churn = udf(lambda x: 2 if x == 'Cancellation Confirmation' else 1 if x == 'Downgrade' else 0)\n",
    "sc_cl = sc_cl.withColumn('churn', to_label_churn(sc_cl.page))"
   ]
  },
  {
   "cell_type": "code",
   "execution_count": 187,
   "metadata": {},
   "outputs": [],
   "source": [
    "# convert time\n",
    "import datetime\n",
    "get_year = udf(lambda x: datetime.datetime.fromtimestamp(x / 1000.0). year)\n",
    "get_month = udf(lambda x: datetime.datetime.fromtimestamp(x / 1000.0). month)\n",
    "get_day = udf(lambda x: datetime.datetime.fromtimestamp(x / 1000.0). day)\n",
    "get_hour = udf(lambda x: datetime.datetime.fromtimestamp(x / 1000.0). hour)"
   ]
  },
  {
   "cell_type": "code",
   "execution_count": 188,
   "metadata": {},
   "outputs": [],
   "source": [
    "sc_cl = sc_cl.withColumn('year', get_year(sc_cl.ts))\n",
    "sc_cl = sc_cl.withColumn('month', get_month(sc_cl.ts))\n",
    "sc_cl = sc_cl.withColumn('day', get_day(sc_cl.ts))\n",
    "sc_cl = sc_cl.withColumn('hour', get_hour(sc_cl.ts))"
   ]
  },
  {
   "cell_type": "code",
   "execution_count": 189,
   "metadata": {},
   "outputs": [],
   "source": [
    "sc_cl = sc_cl.drop('ts')"
   ]
  },
  {
   "cell_type": "code",
   "execution_count": 190,
   "metadata": {},
   "outputs": [],
   "source": [
    "# convert the data types\n",
    "columns_to_cast = {\n",
    "    'churn': 'Integer',\n",
    "    'year': 'Integer',\n",
    "    'month': 'Integer',\n",
    "    'day': 'Integer',\n",
    "    'hour': 'Integer'\n",
    "}\n",
    "\n",
    "for column, dtype in columns_to_cast.items():\n",
    "    sc_cl = sc_cl.withColumn(column, sc_cl[column].cast(dtype))"
   ]
  },
  {
   "cell_type": "code",
   "execution_count": 191,
   "metadata": {},
   "outputs": [],
   "source": [
    "# select on the state as the location\n",
    "to_extract_state = udf(lambda s: s.split(',')[1].strip() if ',' in s else s)"
   ]
  },
  {
   "cell_type": "code",
   "execution_count": 192,
   "metadata": {},
   "outputs": [],
   "source": [
    "sc_cl = sc_cl.withColumn('state', to_extract_state(sc_cl.location))"
   ]
  },
  {
   "cell_type": "code",
   "execution_count": 193,
   "metadata": {},
   "outputs": [],
   "source": [
    "from pyspark.sql.functions import split, explode\n",
    "sc_cl2 = sc_cl.withColumn('states', split(sc_cl.state, \"-\"))\n",
    "sc_cl2 = sc_cl2.withColumn('state', explode(sc_cl2.states))\n",
    "sc_cl = sc_cl2.drop('states','location')"
   ]
  },
  {
   "cell_type": "code",
   "execution_count": 194,
   "metadata": {},
   "outputs": [
    {
     "name": "stdout",
     "output_type": "stream",
     "text": [
      "+------+-------------+-----+---------+------+--------+---------+------+------+-----+----+-----+---+----+-----+\n",
      "|gender|itemInSession|level|   length|method|    page|sessionId|status|userId|churn|year|month|day|hour|state|\n",
      "+------+-------------+-----+---------+------+--------+---------+------+------+-----+----+-----+---+----+-----+\n",
      "|     M|           32| free|406.07302|   PUT|NextSong|      100|   200|   101|    0|2018|   10|  1|   4|   CO|\n",
      "|     F|           62| free|447.79057|   PUT|NextSong|      187|   200|    78|    0|2018|   10|  1|   4|   TX|\n",
      "|     F|            0| paid|179.46077|   PUT|NextSong|      222|   200|    25|    0|2018|   10|  1|   4|   FL|\n",
      "|     F|           23| paid|435.93098|   PUT|NextSong|      260|   200|    54|    0|2018|   10|  1|  13|   WA|\n",
      "|     M|           66| free|284.81261|   PUT|NextSong|       26|   200|    27|    0|2018|   10|  1|  16|   CT|\n",
      "+------+-------------+-----+---------+------+--------+---------+------+------+-----+----+-----+---+----+-----+\n",
      "only showing top 5 rows\n",
      "\n"
     ]
    }
   ],
   "source": [
    "sc_cl.show(5)"
   ]
  },
  {
   "cell_type": "markdown",
   "metadata": {},
   "source": [
    "> Now the data is wrangled"
   ]
  },
  {
   "cell_type": "code",
   "execution_count": 32,
   "metadata": {},
   "outputs": [],
   "source": [
    "# convert the sc data to pandas dataframe to visualise for a basic analysis\n",
    "df_cl = sc_cl.toPandas()"
   ]
  },
  {
   "cell_type": "code",
   "execution_count": 38,
   "metadata": {},
   "outputs": [
    {
     "data": {
      "text/html": [
       "<div>\n",
       "<style scoped>\n",
       "    .dataframe tbody tr th:only-of-type {\n",
       "        vertical-align: middle;\n",
       "    }\n",
       "\n",
       "    .dataframe tbody tr th {\n",
       "        vertical-align: top;\n",
       "    }\n",
       "\n",
       "    .dataframe thead th {\n",
       "        text-align: right;\n",
       "    }\n",
       "</style>\n",
       "<table border=\"1\" class=\"dataframe\">\n",
       "  <thead>\n",
       "    <tr style=\"text-align: right;\">\n",
       "      <th></th>\n",
       "      <th>gender</th>\n",
       "      <th>itemInSession</th>\n",
       "      <th>level</th>\n",
       "      <th>length</th>\n",
       "      <th>method</th>\n",
       "      <th>page</th>\n",
       "      <th>sessionId</th>\n",
       "      <th>status</th>\n",
       "      <th>userId</th>\n",
       "      <th>churn</th>\n",
       "      <th>year</th>\n",
       "      <th>month</th>\n",
       "      <th>day</th>\n",
       "      <th>hour</th>\n",
       "      <th>state</th>\n",
       "    </tr>\n",
       "  </thead>\n",
       "  <tbody>\n",
       "    <tr>\n",
       "      <th>80042</th>\n",
       "      <td>M</td>\n",
       "      <td>99</td>\n",
       "      <td>paid</td>\n",
       "      <td>245.99465</td>\n",
       "      <td>PUT</td>\n",
       "      <td>NextSong</td>\n",
       "      <td>2355</td>\n",
       "      <td>200</td>\n",
       "      <td>4</td>\n",
       "      <td>0</td>\n",
       "      <td>2018</td>\n",
       "      <td>11</td>\n",
       "      <td>28</td>\n",
       "      <td>3</td>\n",
       "      <td>MD</td>\n",
       "    </tr>\n",
       "    <tr>\n",
       "      <th>109561</th>\n",
       "      <td>F</td>\n",
       "      <td>53</td>\n",
       "      <td>paid</td>\n",
       "      <td>285.12608</td>\n",
       "      <td>PUT</td>\n",
       "      <td>NextSong</td>\n",
       "      <td>1035</td>\n",
       "      <td>200</td>\n",
       "      <td>118</td>\n",
       "      <td>0</td>\n",
       "      <td>2018</td>\n",
       "      <td>10</td>\n",
       "      <td>23</td>\n",
       "      <td>19</td>\n",
       "      <td>NY</td>\n",
       "    </tr>\n",
       "    <tr>\n",
       "      <th>183513</th>\n",
       "      <td>F</td>\n",
       "      <td>63</td>\n",
       "      <td>free</td>\n",
       "      <td>306.23302</td>\n",
       "      <td>PUT</td>\n",
       "      <td>NextSong</td>\n",
       "      <td>117</td>\n",
       "      <td>200</td>\n",
       "      <td>118</td>\n",
       "      <td>0</td>\n",
       "      <td>2018</td>\n",
       "      <td>10</td>\n",
       "      <td>2</td>\n",
       "      <td>22</td>\n",
       "      <td>PA</td>\n",
       "    </tr>\n",
       "    <tr>\n",
       "      <th>6016</th>\n",
       "      <td>F</td>\n",
       "      <td>106</td>\n",
       "      <td>paid</td>\n",
       "      <td>349.93587</td>\n",
       "      <td>PUT</td>\n",
       "      <td>NextSong</td>\n",
       "      <td>1533</td>\n",
       "      <td>200</td>\n",
       "      <td>45</td>\n",
       "      <td>0</td>\n",
       "      <td>2018</td>\n",
       "      <td>11</td>\n",
       "      <td>16</td>\n",
       "      <td>9</td>\n",
       "      <td>GA</td>\n",
       "    </tr>\n",
       "    <tr>\n",
       "      <th>52909</th>\n",
       "      <td>M</td>\n",
       "      <td>24</td>\n",
       "      <td>paid</td>\n",
       "      <td>277.28934</td>\n",
       "      <td>PUT</td>\n",
       "      <td>NextSong</td>\n",
       "      <td>2252</td>\n",
       "      <td>200</td>\n",
       "      <td>37</td>\n",
       "      <td>0</td>\n",
       "      <td>2018</td>\n",
       "      <td>11</td>\n",
       "      <td>27</td>\n",
       "      <td>13</td>\n",
       "      <td>TX</td>\n",
       "    </tr>\n",
       "  </tbody>\n",
       "</table>\n",
       "</div>"
      ],
      "text/plain": [
       "       gender  itemInSession level     length method      page  sessionId  \\\n",
       "80042       M             99  paid  245.99465    PUT  NextSong       2355   \n",
       "109561      F             53  paid  285.12608    PUT  NextSong       1035   \n",
       "183513      F             63  free  306.23302    PUT  NextSong        117   \n",
       "6016        F            106  paid  349.93587    PUT  NextSong       1533   \n",
       "52909       M             24  paid  277.28934    PUT  NextSong       2252   \n",
       "\n",
       "        status userId churn  year month day hour state  \n",
       "80042      200      4     0  2018    11  28    3    MD  \n",
       "109561     200    118     0  2018    10  23   19    NY  \n",
       "183513     200    118     0  2018    10   2   22    PA  \n",
       "6016       200     45     0  2018    11  16    9    GA  \n",
       "52909      200     37     0  2018    11  27   13    TX  "
      ]
     },
     "execution_count": 38,
     "metadata": {},
     "output_type": "execute_result"
    }
   ],
   "source": [
    "df_pc = df_cl[df_cl.churn == '0']\n",
    "df_pc.sample(5)"
   ]
  },
  {
   "cell_type": "code",
   "execution_count": null,
   "metadata": {},
   "outputs": [],
   "source": []
  },
  {
   "cell_type": "code",
   "execution_count": 139,
   "metadata": {},
   "outputs": [
    {
     "data": {
      "text/plain": [
       "343318    300023\n",
       "73352     300019\n",
       "89813     200011\n",
       "106327    300011\n",
       "61005     300011\n",
       "107274        98\n",
       "385049        37\n",
       "313899       147\n",
       "175807    300015\n",
       "87286         74\n",
       "113221        39\n",
       "233679        92\n",
       "293203       138\n",
       "403419        58\n",
       "409241        29\n",
       "Name: userId, dtype: object"
      ]
     },
     "execution_count": 139,
     "metadata": {},
     "output_type": "execute_result"
    }
   ],
   "source": [
    "df_cl.userId.sample(15)"
   ]
  },
  {
   "cell_type": "code",
   "execution_count": null,
   "metadata": {},
   "outputs": [],
   "source": []
  },
  {
   "cell_type": "code",
   "execution_count": null,
   "metadata": {},
   "outputs": [],
   "source": []
  },
  {
   "cell_type": "code",
   "execution_count": null,
   "metadata": {},
   "outputs": [],
   "source": []
  },
  {
   "cell_type": "code",
   "execution_count": null,
   "metadata": {},
   "outputs": [],
   "source": []
  },
  {
   "cell_type": "code",
   "execution_count": null,
   "metadata": {},
   "outputs": [],
   "source": []
  },
  {
   "cell_type": "markdown",
   "metadata": {},
   "source": [
    "# Feature Engineering\n",
    "Once you've familiarized yourself with the data, build out the features you find promising to train your model on. To work with the full dataset, you can follow the following steps.\n",
    "- Write a script to extract the necessary features from the smaller subset of data\n",
    "- Ensure that your script is scalable, using the best practices discussed in Lesson 3\n",
    "- Try your script on the full data set, debugging your script if necessary\n",
    "\n",
    "If you are working in the classroom workspace, you can just extract features based on the small subset of data contained here. Be sure to transfer over this work to the larger dataset when you work on your Spark cluster."
   ]
  },
  {
   "cell_type": "code",
   "execution_count": null,
   "metadata": {},
   "outputs": [],
   "source": [
    "# indexing the strings\n",
    "from pyspark.ml.feature import StringIndexer, OneHotEncoder"
   ]
  },
  {
   "cell_type": "code",
   "execution_count": null,
   "metadata": {},
   "outputs": [],
   "source": [
    "for col in sc_cl.columns:\n",
    "    indexer = StringIndexer(inputCol=col, outputCol=col + \"_index\")\n",
    "    sc_ind = indexer.fit(sc_cl).transform(sc_cl)\n",
    "    sc_ind = sc_ind.drop(col).withColumnRenamed(col + \"_index\", col)"
   ]
  },
  {
   "cell_type": "code",
   "execution_count": null,
   "metadata": {},
   "outputs": [],
   "source": []
  },
  {
   "cell_type": "code",
   "execution_count": null,
   "metadata": {},
   "outputs": [],
   "source": []
  },
  {
   "cell_type": "code",
   "execution_count": null,
   "metadata": {},
   "outputs": [],
   "source": []
  },
  {
   "cell_type": "code",
   "execution_count": null,
   "metadata": {},
   "outputs": [],
   "source": []
  },
  {
   "cell_type": "code",
   "execution_count": null,
   "metadata": {},
   "outputs": [],
   "source": []
  },
  {
   "cell_type": "code",
   "execution_count": null,
   "metadata": {},
   "outputs": [],
   "source": []
  },
  {
   "cell_type": "markdown",
   "metadata": {},
   "source": [
    "# Modeling\n",
    "Split the full dataset into train, test, and validation sets. Test out several of the machine learning methods you learned. Evaluate the accuracy of the various models, tuning parameters as necessary. Determine your winning model based on test accuracy and report results on the validation set. Since the churned users are a fairly small subset, I suggest using F1 score as the metric to optimize."
   ]
  },
  {
   "cell_type": "code",
   "execution_count": null,
   "metadata": {},
   "outputs": [],
   "source": []
  },
  {
   "cell_type": "markdown",
   "metadata": {},
   "source": [
    "# Final Steps\n",
    "Clean up your code, adding comments and renaming variables to make the code easier to read and maintain. Refer to the Spark Project Overview page and Data Scientist Capstone Project Rubric to make sure you are including all components of the capstone project and meet all expectations. Remember, this includes thorough documentation in a README file in a Github repository, as well as a web app or blog post."
   ]
  },
  {
   "cell_type": "code",
   "execution_count": null,
   "metadata": {},
   "outputs": [],
   "source": []
  }
 ],
 "metadata": {
  "kernelspec": {
   "display_name": "Python 3",
   "language": "python",
   "name": "python3"
  },
  "language_info": {
   "codemirror_mode": {
    "name": "ipython",
    "version": 3
   },
   "file_extension": ".py",
   "mimetype": "text/x-python",
   "name": "python",
   "nbconvert_exporter": "python",
   "pygments_lexer": "ipython3",
   "version": "3.6.3"
  }
 },
 "nbformat": 4,
 "nbformat_minor": 2
}
